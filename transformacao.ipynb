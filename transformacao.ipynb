{
 "cells": [
  {
   "cell_type": "code",
   "execution_count": 5,
   "metadata": {},
   "outputs": [
    {
     "data": {
      "text/html": [
       "<div>\n",
       "<style scoped>\n",
       "    .dataframe tbody tr th:only-of-type {\n",
       "        vertical-align: middle;\n",
       "    }\n",
       "\n",
       "    .dataframe tbody tr th {\n",
       "        vertical-align: top;\n",
       "    }\n",
       "\n",
       "    .dataframe thead th {\n",
       "        text-align: right;\n",
       "    }\n",
       "</style>\n",
       "<table border=\"1\" class=\"dataframe\">\n",
       "  <thead>\n",
       "    <tr style=\"text-align: right;\">\n",
       "      <th></th>\n",
       "      <th>ID RH</th>\n",
       "      <th>Nome</th>\n",
       "      <th>Sobrenome</th>\n",
       "      <th>Genero</th>\n",
       "      <th>Data de Nascimento</th>\n",
       "      <th>Endereço</th>\n",
       "      <th>Data de Contratacao</th>\n",
       "      <th>Data de Demissao</th>\n",
       "      <th>Salario</th>\n",
       "      <th>VR</th>\n",
       "      <th>VT</th>\n",
       "      <th>Cargo</th>\n",
       "      <th>Área</th>\n",
       "      <th>Horas Extras</th>\n",
       "      <th>Avaliação do Funcionário</th>\n",
       "    </tr>\n",
       "  </thead>\n",
       "  <tbody>\n",
       "    <tr>\n",
       "      <th>0</th>\n",
       "      <td>195</td>\n",
       "      <td>ADELINO</td>\n",
       "      <td>WERNECK</td>\n",
       "      <td>M</td>\n",
       "      <td>1997-04-27</td>\n",
       "      <td>Av. Guilherme Campos, 500 - Jardim Santa Geneb...</td>\n",
       "      <td>2015-04-23</td>\n",
       "      <td>NaT</td>\n",
       "      <td>12954</td>\n",
       "      <td>700</td>\n",
       "      <td>200</td>\n",
       "      <td>Coordenador</td>\n",
       "      <td>Administrativo</td>\n",
       "      <td>161</td>\n",
       "      <td>9.8</td>\n",
       "    </tr>\n",
       "    <tr>\n",
       "      <th>1</th>\n",
       "      <td>102</td>\n",
       "      <td>ADRIANO</td>\n",
       "      <td>SOUZA</td>\n",
       "      <td>M</td>\n",
       "      <td>1993-12-09</td>\n",
       "      <td>Av. Limeira, 722 - Areião, Piracicaba - SP, 13...</td>\n",
       "      <td>2020-12-05</td>\n",
       "      <td>NaT</td>\n",
       "      <td>1635</td>\n",
       "      <td>500</td>\n",
       "      <td>225</td>\n",
       "      <td>Estagiário</td>\n",
       "      <td>Marketing</td>\n",
       "      <td>57</td>\n",
       "      <td>7.3</td>\n",
       "    </tr>\n",
       "    <tr>\n",
       "      <th>2</th>\n",
       "      <td>342</td>\n",
       "      <td>ALFREDO</td>\n",
       "      <td>ARAUJO</td>\n",
       "      <td>M</td>\n",
       "      <td>1986-08-14</td>\n",
       "      <td>Av. Limeira, 722 - Areião, Piracicaba - SP, 13...</td>\n",
       "      <td>2020-04-02</td>\n",
       "      <td>NaT</td>\n",
       "      <td>11153</td>\n",
       "      <td>750</td>\n",
       "      <td>300</td>\n",
       "      <td>Coordenador</td>\n",
       "      <td>Marketing</td>\n",
       "      <td>70</td>\n",
       "      <td>8.7</td>\n",
       "    </tr>\n",
       "  </tbody>\n",
       "</table>\n",
       "</div>"
      ],
      "text/plain": [
       "   ID RH     Nome Sobrenome Genero Data de Nascimento  \\\n",
       "0    195  ADELINO   WERNECK      M         1997-04-27   \n",
       "1    102  ADRIANO     SOUZA      M         1993-12-09   \n",
       "2    342  ALFREDO    ARAUJO      M         1986-08-14   \n",
       "\n",
       "                                            Endereço Data de Contratacao  \\\n",
       "0  Av. Guilherme Campos, 500 - Jardim Santa Geneb...          2015-04-23   \n",
       "1  Av. Limeira, 722 - Areião, Piracicaba - SP, 13...          2020-12-05   \n",
       "2  Av. Limeira, 722 - Areião, Piracicaba - SP, 13...          2020-04-02   \n",
       "\n",
       "  Data de Demissao  Salario   VR   VT        Cargo            Área  \\\n",
       "0              NaT    12954  700  200  Coordenador  Administrativo   \n",
       "1              NaT     1635  500  225   Estagiário       Marketing   \n",
       "2              NaT    11153  750  300  Coordenador       Marketing   \n",
       "\n",
       "   Horas Extras  Avaliação do Funcionário  \n",
       "0           161                       9.8  \n",
       "1            57                       7.3  \n",
       "2            70                       8.7  "
      ]
     },
     "execution_count": 5,
     "metadata": {},
     "output_type": "execute_result"
    }
   ],
   "source": [
    "import matplotlib.pyplot as plt\n",
    "import pandas as pd\n",
    "\n",
    "#Carregar a base\n",
    "df = pd.read_excel(r'BaseFuncionarios.xlsx')\n",
    "\n",
    "df.head(3)"
   ]
  },
  {
   "cell_type": "code",
   "execution_count": null,
   "metadata": {},
   "outputs": [],
   "source": [
    "df['Data de Contratacao'] = pd.to_datetime(df['Data de Contratacao'])\n",
    "df['Data de Demissao'] = pd.to_datetime(df['Data de Demissao'], errors='coerce')\n",
    "df.info()"
   ]
  },
  {
   "cell_type": "code",
   "execution_count": null,
   "metadata": {},
   "outputs": [
    {
     "data": {
      "text/plain": [
       "Status\n",
       "Ativo       155\n",
       "Demitido     51\n",
       "Name: count, dtype: int64"
      ]
     },
     "execution_count": 8,
     "metadata": {},
     "output_type": "execute_result"
    }
   ],
   "source": [
    "df['Status'] = df['Data de Demissao'].isna().map({True: 'Ativo', False:'Demitido'})\n",
    "\n",
    "df['Status'].value_counts()\n",
    "\n"
   ]
  },
  {
   "cell_type": "code",
   "execution_count": 10,
   "metadata": {},
   "outputs": [
    {
     "name": "stdout",
     "output_type": "stream",
     "text": [
      "155\n",
      "51\n"
     ]
    }
   ],
   "source": [
    "total_ativos = df[ df['Status']=='Ativo'].shape[0]\n",
    "print(total_ativos)\n",
    "\n",
    "total_demitidos = df[ df['Status']=='Demitido'].shape[0]\n",
    "print(total_demitidos)"
   ]
  },
  {
   "cell_type": "code",
   "execution_count": 11,
   "metadata": {},
   "outputs": [
    {
     "name": "stdout",
     "output_type": "stream",
     "text": [
      "0      True\n",
      "1      True\n",
      "2      True\n",
      "3      True\n",
      "4      True\n",
      "       ... \n",
      "201    True\n",
      "202    True\n",
      "203    True\n",
      "204    True\n",
      "205    True\n",
      "Name: Data de Contratacao, Length: 206, dtype: bool\n"
     ]
    }
   ],
   "source": [
    "total_contratacoes = df['Data de Contratacao'].notna()\n",
    "\n",
    "print(total_contratacoes)"
   ]
  },
  {
   "cell_type": "code",
   "execution_count": null,
   "metadata": {},
   "outputs": [
    {
     "name": "stdout",
     "output_type": "stream",
     "text": [
      "1487553\n"
     ]
    }
   ],
   "source": [
    "##folha_salarial = \n",
    "\n",
    "#df['Folha Salarial'] = df['Salario'] + df['VR'] + df['VT']\n",
    "#total_folha = df[ df['Status']=='Ativo']['Folha Salarial'].sum()\n",
    "#print(total_folha)\n",
    "\n",
    "#Outra forma\n",
    "folha_salarial = (df['Salario'] + df['VR'] + df['VT'])[df['Status']== 'Ativo'].sum()\n",
    "\n",
    "print(folha_salarial)"
   ]
  },
  {
   "cell_type": "code",
   "execution_count": 19,
   "metadata": {},
   "outputs": [
    {
     "data": {
      "text/html": [
       "<div>\n",
       "<style scoped>\n",
       "    .dataframe tbody tr th:only-of-type {\n",
       "        vertical-align: middle;\n",
       "    }\n",
       "\n",
       "    .dataframe tbody tr th {\n",
       "        vertical-align: top;\n",
       "    }\n",
       "\n",
       "    .dataframe thead th {\n",
       "        text-align: right;\n",
       "    }\n",
       "</style>\n",
       "<table border=\"1\" class=\"dataframe\">\n",
       "  <thead>\n",
       "    <tr style=\"text-align: right;\">\n",
       "      <th></th>\n",
       "      <th>ID RH</th>\n",
       "      <th>Nome</th>\n",
       "      <th>Sobrenome</th>\n",
       "      <th>Genero</th>\n",
       "      <th>Data de Nascimento</th>\n",
       "      <th>Endereço</th>\n",
       "      <th>Data de Contratacao</th>\n",
       "      <th>Data de Demissao</th>\n",
       "      <th>Salario</th>\n",
       "      <th>VR</th>\n",
       "      <th>VT</th>\n",
       "      <th>Cargo</th>\n",
       "      <th>Área</th>\n",
       "      <th>Horas Extras</th>\n",
       "      <th>Avaliação do Funcionário</th>\n",
       "      <th>Status</th>\n",
       "      <th>Folha Salarial</th>\n",
       "    </tr>\n",
       "  </thead>\n",
       "  <tbody>\n",
       "    <tr>\n",
       "      <th>0</th>\n",
       "      <td>195</td>\n",
       "      <td>ADELINO</td>\n",
       "      <td>WERNECK</td>\n",
       "      <td>M</td>\n",
       "      <td>1997-04-27</td>\n",
       "      <td>Av. Guilherme Campos, 500 - Jardim Santa Geneb...</td>\n",
       "      <td>2015-04-23</td>\n",
       "      <td>NaT</td>\n",
       "      <td>12954</td>\n",
       "      <td>700</td>\n",
       "      <td>200</td>\n",
       "      <td>Coordenador</td>\n",
       "      <td>Administrativo</td>\n",
       "      <td>161</td>\n",
       "      <td>9.8</td>\n",
       "      <td>Ativo</td>\n",
       "      <td>13854</td>\n",
       "    </tr>\n",
       "  </tbody>\n",
       "</table>\n",
       "</div>"
      ],
      "text/plain": [
       "   ID RH     Nome Sobrenome Genero Data de Nascimento  \\\n",
       "0    195  ADELINO   WERNECK      M         1997-04-27   \n",
       "\n",
       "                                            Endereço Data de Contratacao  \\\n",
       "0  Av. Guilherme Campos, 500 - Jardim Santa Geneb...          2015-04-23   \n",
       "\n",
       "  Data de Demissao  Salario   VR   VT        Cargo            Área  \\\n",
       "0              NaT    12954  700  200  Coordenador  Administrativo   \n",
       "\n",
       "   Horas Extras  Avaliação do Funcionário Status  Folha Salarial  \n",
       "0           161                       9.8  Ativo           13854  "
      ]
     },
     "execution_count": 19,
     "metadata": {},
     "output_type": "execute_result"
    }
   ],
   "source": [
    "df.head(1)"
   ]
  }
 ],
 "metadata": {
  "kernelspec": {
   "display_name": "Python 3",
   "language": "python",
   "name": "python3"
  },
  "language_info": {
   "codemirror_mode": {
    "name": "ipython",
    "version": 3
   },
   "file_extension": ".py",
   "mimetype": "text/x-python",
   "name": "python",
   "nbconvert_exporter": "python",
   "pygments_lexer": "ipython3",
   "version": "3.13.2"
  }
 },
 "nbformat": 4,
 "nbformat_minor": 2
}
